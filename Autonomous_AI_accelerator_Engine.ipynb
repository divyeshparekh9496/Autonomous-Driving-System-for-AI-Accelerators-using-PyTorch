{
  "nbformat": 4,
  "nbformat_minor": 0,
  "metadata": {
    "colab": {
      "provenance": [],
      "authorship_tag": "ABX9TyNQEzEBHQgHyEtQzVrzkc6Y",
      "include_colab_link": true
    },
    "kernelspec": {
      "name": "python3",
      "display_name": "Python 3"
    },
    "language_info": {
      "name": "python"
    }
  },
  "cells": [
    {
      "cell_type": "markdown",
      "metadata": {
        "id": "view-in-github",
        "colab_type": "text"
      },
      "source": [
        "<a href=\"https://colab.research.google.com/github/divyeshparekh9496/Autonomous-Driving-System-for-AI-Accelerators-using-PyTorch/blob/main/Autonomous_AI_accelerator_Engine.ipynb\" target=\"_parent\"><img src=\"https://colab.research.google.com/assets/colab-badge.svg\" alt=\"Open In Colab\"/></a>"
      ]
    },
    {
      "cell_type": "code",
      "source": [
        "import psutil\n",
        "!pip install dash\n",
        "!pip install dash_daq\n",
        "import dash\n",
        "from dash import dcc, html\n",
        "import dash_daq as daq\n",
        "from dash.dependencies import Input, Output\n",
        "import sqlite3\n",
        "import torch\n",
        "import torch.nn as nn\n",
        "import torch.optim as optim\n",
        "import numpy as np\n",
        "import os\n",
        "import datetime"
      ],
      "metadata": {
        "colab": {
          "base_uri": "https://localhost:8080/"
        },
        "id": "8DENP0QakO8W",
        "outputId": "7eb64883-96f4-406b-e3ff-c24c366cbb83"
      },
      "execution_count": null,
      "outputs": [
        {
          "output_type": "stream",
          "name": "stdout",
          "text": [
            "Requirement already satisfied: dash in /usr/local/lib/python3.10/dist-packages (2.18.1)\n",
            "Requirement already satisfied: Flask<3.1,>=1.0.4 in /usr/local/lib/python3.10/dist-packages (from dash) (2.2.5)\n",
            "Requirement already satisfied: Werkzeug<3.1 in /usr/local/lib/python3.10/dist-packages (from dash) (3.0.4)\n",
            "Requirement already satisfied: plotly>=5.0.0 in /usr/local/lib/python3.10/dist-packages (from dash) (5.15.0)\n",
            "Requirement already satisfied: dash-html-components==2.0.0 in /usr/local/lib/python3.10/dist-packages (from dash) (2.0.0)\n",
            "Requirement already satisfied: dash-core-components==2.0.0 in /usr/local/lib/python3.10/dist-packages (from dash) (2.0.0)\n",
            "Requirement already satisfied: dash-table==5.0.0 in /usr/local/lib/python3.10/dist-packages (from dash) (5.0.0)\n",
            "Requirement already satisfied: importlib-metadata in /usr/local/lib/python3.10/dist-packages (from dash) (8.5.0)\n",
            "Requirement already satisfied: typing-extensions>=4.1.1 in /usr/local/lib/python3.10/dist-packages (from dash) (4.12.2)\n",
            "Requirement already satisfied: requests in /usr/local/lib/python3.10/dist-packages (from dash) (2.32.3)\n",
            "Requirement already satisfied: retrying in /usr/local/lib/python3.10/dist-packages (from dash) (1.3.4)\n",
            "Requirement already satisfied: nest-asyncio in /usr/local/lib/python3.10/dist-packages (from dash) (1.6.0)\n",
            "Requirement already satisfied: setuptools in /usr/local/lib/python3.10/dist-packages (from dash) (71.0.4)\n",
            "Requirement already satisfied: Jinja2>=3.0 in /usr/local/lib/python3.10/dist-packages (from Flask<3.1,>=1.0.4->dash) (3.1.4)\n",
            "Requirement already satisfied: itsdangerous>=2.0 in /usr/local/lib/python3.10/dist-packages (from Flask<3.1,>=1.0.4->dash) (2.2.0)\n",
            "Requirement already satisfied: click>=8.0 in /usr/local/lib/python3.10/dist-packages (from Flask<3.1,>=1.0.4->dash) (8.1.7)\n",
            "Requirement already satisfied: tenacity>=6.2.0 in /usr/local/lib/python3.10/dist-packages (from plotly>=5.0.0->dash) (9.0.0)\n",
            "Requirement already satisfied: packaging in /usr/local/lib/python3.10/dist-packages (from plotly>=5.0.0->dash) (24.1)\n",
            "Requirement already satisfied: MarkupSafe>=2.1.1 in /usr/local/lib/python3.10/dist-packages (from Werkzeug<3.1->dash) (2.1.5)\n",
            "Requirement already satisfied: zipp>=3.20 in /usr/local/lib/python3.10/dist-packages (from importlib-metadata->dash) (3.20.2)\n",
            "Requirement already satisfied: charset-normalizer<4,>=2 in /usr/local/lib/python3.10/dist-packages (from requests->dash) (3.3.2)\n",
            "Requirement already satisfied: idna<4,>=2.5 in /usr/local/lib/python3.10/dist-packages (from requests->dash) (3.10)\n",
            "Requirement already satisfied: urllib3<3,>=1.21.1 in /usr/local/lib/python3.10/dist-packages (from requests->dash) (2.0.7)\n",
            "Requirement already satisfied: certifi>=2017.4.17 in /usr/local/lib/python3.10/dist-packages (from requests->dash) (2024.8.30)\n",
            "Requirement already satisfied: six>=1.7.0 in /usr/local/lib/python3.10/dist-packages (from retrying->dash) (1.16.0)\n",
            "Requirement already satisfied: dash_daq in /usr/local/lib/python3.10/dist-packages (0.5.0)\n",
            "Requirement already satisfied: dash>=1.6.1 in /usr/local/lib/python3.10/dist-packages (from dash_daq) (2.18.1)\n",
            "Requirement already satisfied: Flask<3.1,>=1.0.4 in /usr/local/lib/python3.10/dist-packages (from dash>=1.6.1->dash_daq) (2.2.5)\n",
            "Requirement already satisfied: Werkzeug<3.1 in /usr/local/lib/python3.10/dist-packages (from dash>=1.6.1->dash_daq) (3.0.4)\n",
            "Requirement already satisfied: plotly>=5.0.0 in /usr/local/lib/python3.10/dist-packages (from dash>=1.6.1->dash_daq) (5.15.0)\n",
            "Requirement already satisfied: dash-html-components==2.0.0 in /usr/local/lib/python3.10/dist-packages (from dash>=1.6.1->dash_daq) (2.0.0)\n",
            "Requirement already satisfied: dash-core-components==2.0.0 in /usr/local/lib/python3.10/dist-packages (from dash>=1.6.1->dash_daq) (2.0.0)\n",
            "Requirement already satisfied: dash-table==5.0.0 in /usr/local/lib/python3.10/dist-packages (from dash>=1.6.1->dash_daq) (5.0.0)\n",
            "Requirement already satisfied: importlib-metadata in /usr/local/lib/python3.10/dist-packages (from dash>=1.6.1->dash_daq) (8.5.0)\n",
            "Requirement already satisfied: typing-extensions>=4.1.1 in /usr/local/lib/python3.10/dist-packages (from dash>=1.6.1->dash_daq) (4.12.2)\n",
            "Requirement already satisfied: requests in /usr/local/lib/python3.10/dist-packages (from dash>=1.6.1->dash_daq) (2.32.3)\n",
            "Requirement already satisfied: retrying in /usr/local/lib/python3.10/dist-packages (from dash>=1.6.1->dash_daq) (1.3.4)\n",
            "Requirement already satisfied: nest-asyncio in /usr/local/lib/python3.10/dist-packages (from dash>=1.6.1->dash_daq) (1.6.0)\n",
            "Requirement already satisfied: setuptools in /usr/local/lib/python3.10/dist-packages (from dash>=1.6.1->dash_daq) (71.0.4)\n",
            "Requirement already satisfied: Jinja2>=3.0 in /usr/local/lib/python3.10/dist-packages (from Flask<3.1,>=1.0.4->dash>=1.6.1->dash_daq) (3.1.4)\n",
            "Requirement already satisfied: itsdangerous>=2.0 in /usr/local/lib/python3.10/dist-packages (from Flask<3.1,>=1.0.4->dash>=1.6.1->dash_daq) (2.2.0)\n",
            "Requirement already satisfied: click>=8.0 in /usr/local/lib/python3.10/dist-packages (from Flask<3.1,>=1.0.4->dash>=1.6.1->dash_daq) (8.1.7)\n",
            "Requirement already satisfied: tenacity>=6.2.0 in /usr/local/lib/python3.10/dist-packages (from plotly>=5.0.0->dash>=1.6.1->dash_daq) (9.0.0)\n",
            "Requirement already satisfied: packaging in /usr/local/lib/python3.10/dist-packages (from plotly>=5.0.0->dash>=1.6.1->dash_daq) (24.1)\n",
            "Requirement already satisfied: MarkupSafe>=2.1.1 in /usr/local/lib/python3.10/dist-packages (from Werkzeug<3.1->dash>=1.6.1->dash_daq) (2.1.5)\n",
            "Requirement already satisfied: zipp>=3.20 in /usr/local/lib/python3.10/dist-packages (from importlib-metadata->dash>=1.6.1->dash_daq) (3.20.2)\n",
            "Requirement already satisfied: charset-normalizer<4,>=2 in /usr/local/lib/python3.10/dist-packages (from requests->dash>=1.6.1->dash_daq) (3.3.2)\n",
            "Requirement already satisfied: idna<4,>=2.5 in /usr/local/lib/python3.10/dist-packages (from requests->dash>=1.6.1->dash_daq) (3.10)\n",
            "Requirement already satisfied: urllib3<3,>=1.21.1 in /usr/local/lib/python3.10/dist-packages (from requests->dash>=1.6.1->dash_daq) (2.0.7)\n",
            "Requirement already satisfied: certifi>=2017.4.17 in /usr/local/lib/python3.10/dist-packages (from requests->dash>=1.6.1->dash_daq) (2024.8.30)\n",
            "Requirement already satisfied: six>=1.7.0 in /usr/local/lib/python3.10/dist-packages (from retrying->dash>=1.6.1->dash_daq) (1.16.0)\n"
          ]
        }
      ]
    },
    {
      "cell_type": "code",
      "source": [
        "# Initialize SQLite database\n",
        "db_file = 'ai_accelerator.db'\n",
        "if not os.path.exists(db_file):\n",
        "    conn = sqlite3.connect(db_file)\n",
        "    c = conn.cursor()\n",
        "    c.execute('''CREATE TABLE IF NOT EXISTS accelerator_data\n",
        "                 (timestamp TEXT, accelerator_type TEXT, power_usage REAL, load_distribution REAL)''')\n",
        "    conn.commit()\n",
        "else:\n",
        "    conn = sqlite3.connect(db_file)\n",
        "    c = conn.cursor()\n"
      ],
      "metadata": {
        "id": "PsQE9F7ik3TC"
      },
      "execution_count": null,
      "outputs": []
    },
    {
      "cell_type": "code",
      "source": [
        "\n",
        "# Detect AI accelerators (CPU, GPU, etc.)\n",
        "def detect_accelerators():\n",
        "    accelerators = []\n",
        "\n",
        "    # CPU\n",
        "    cpu_info = {\"type\": \"CPU\", \"brand\": \"Generic CPU\", \"count\": psutil.cpu_count(logical=True),\n",
        "                \"capabilities\": \"Multi-threading, SSE4, AVX\", \"memory\": psutil.virtual_memory().total}\n",
        "    accelerators.append(cpu_info)\n",
        "\n",
        "    # GPU\n",
        "    try:\n",
        "        import GPUtil\n",
        "        gpus = GPUtil.getGPUs()\n",
        "        for gpu in gpus:\n",
        "            accelerators.append({\n",
        "                \"type\": \"GPU\",\n",
        "                \"brand\": gpu.name,\n",
        "                \"count\": 1,\n",
        "                \"capabilities\": \"CUDA, Tensor cores\",\n",
        "                \"memory\": gpu.memoryTotal\n",
        "            })\n",
        "    except ImportError:\n",
        "        pass\n",
        "\n",
        "    return accelerators\n"
      ],
      "metadata": {
        "id": "vRx2PWuPk30f"
      },
      "execution_count": null,
      "outputs": []
    },
    {
      "cell_type": "code",
      "source": [
        "\n",
        "# Reinforcement Learning Model\n",
        "class AIOptimizer(nn.Module):\n",
        "    def __init__(self):\n",
        "        super(AIOptimizer, self).__init__()\n",
        "        self.fc1 = nn.Linear(2, 128)\n",
        "        self.fc2 = nn.Linear(128, 128)\n",
        "        self.fc3 = nn.Linear(128, 2)\n",
        "\n",
        "    def forward(self, x):\n",
        "        x = torch.relu(self.fc1(x))\n",
        "        x = torch.relu(self.fc2(x))\n",
        "        return self.fc3(x)\n"
      ],
      "metadata": {
        "id": "tcrXWwM6lM54"
      },
      "execution_count": null,
      "outputs": []
    },
    {
      "cell_type": "code",
      "source": [
        "\n",
        "# Initialize model and optimizer\n",
        "model = AIOptimizer()\n",
        "optimizer = optim.Adam(model.parameters(), lr=0.001)\n",
        "loss_fn = nn.MSELoss()\n"
      ],
      "metadata": {
        "id": "x3AHDsxBlNtA"
      },
      "execution_count": null,
      "outputs": []
    },
    {
      "cell_type": "code",
      "source": [
        "# Train RL Model (dummy training loop)\n",
        "def train_model(state, target):\n",
        "    state = torch.tensor(state, dtype=torch.float32)\n",
        "    target = torch.tensor(target, dtype=torch.float32)\n",
        "\n",
        "    optimizer.zero_grad()\n",
        "    output = model(state)\n",
        "    loss = loss_fn(output, target)\n",
        "    loss.backward()\n",
        "    optimizer.step()\n"
      ],
      "metadata": {
        "id": "pzWluT_1luvS"
      },
      "execution_count": null,
      "outputs": []
    },
    {
      "cell_type": "code",
      "source": [
        "# AI Recommendations based on RL\n",
        "def ai_recommendations(power, load):\n",
        "    state = np.array([power, load])\n",
        "    with torch.no_grad():\n",
        "        recommendation = model(torch.tensor(state, dtype=torch.float32))\n",
        "    return f\"Recommended Power: {recommendation[0].item():.2f}, Recommended Load: {recommendation[1].item():.2f}\"\n"
      ],
      "metadata": {
        "id": "gD2KlQcUl_O7"
      },
      "execution_count": null,
      "outputs": []
    },
    {
      "cell_type": "code",
      "source": [
        "# Power and Load Distribution sliders\n",
        "def power_management_layout():\n",
        "    return html.Div([\n",
        "        daq.Slider(\n",
        "            id='power-slider',\n",
        "            min=0,\n",
        "            max=100,\n",
        "            value=50,\n",
        "            handleLabel={\"showCurrentValue\": True, \"label\": \"Power\"},\n",
        "            step=1,\n",
        "            marks={0: 'Low', 100: 'High'},\n",
        "        ),\n",
        "        html.Div(id='power-output'),\n",
        "    ])\n",
        "\n",
        "def load_distribution_layout():\n",
        "    return html.Div([\n",
        "        daq.Slider(\n",
        "            id='load-slider',\n",
        "            min=0,\n",
        "            max=100,\n",
        "            value=50,\n",
        "            handleLabel={\"showCurrentValue\": True, \"label\": \"Load\"},\n",
        "            step=1,\n",
        "            marks={0: 'CPU', 100: 'GPU'},\n",
        "        ),\n",
        "        html.Div(id='load-output'),\n",
        "    ])\n"
      ],
      "metadata": {
        "id": "HohX0bLbmHto"
      },
      "execution_count": null,
      "outputs": []
    },
    {
      "cell_type": "code",
      "source": [
        "\n",
        "# Dash Application\n",
        "app = dash.Dash(__name__)\n",
        "\n",
        "app.layout = html.Div([\n",
        "    html.H1(\"Autonomous AI Accelerator Manager\"),\n",
        "\n",
        "    html.H2(\"Detected Accelerators\"),\n",
        "    html.Div(id=\"accelerator-info\"),\n",
        "\n",
        "    html.H2(\"Memory Layer & Power Optimization\"),\n",
        "    power_management_layout(),\n",
        "\n",
        "    html.H2(\"Load Distribution\"),\n",
        "    load_distribution_layout(),\n",
        "\n",
        "    html.H2(\"AI-Generated Recommendations\"),\n",
        "    html.Div(id=\"ai-recommendations\"),\n",
        "\n",
        "    html.H2(\"Real-time Monitoring\"),\n",
        "    dcc.Interval(id='interval-component', interval=5*1000, n_intervals=0),\n",
        "\n",
        "    html.Div(id='live-update-text'),\n",
        "])\n"
      ],
      "metadata": {
        "id": "GjKh4qzTmY8z"
      },
      "execution_count": 20,
      "outputs": []
    },
    {
      "cell_type": "code",
      "source": [
        "# Callbacks for updating the UI based on accelerator detection and recommendations\n",
        "@app.callback(\n",
        "    [Output('accelerator-info', 'children'), Output('ai-recommendations', 'children')],\n",
        "    [Input('interval-component', 'n_intervals'), Input('power-slider', 'value'), Input('load-slider', 'value')]\n",
        ")\n",
        "def update_accelerator_info(n, power, load):\n",
        "    accelerators = detect_accelerators()\n",
        "    accelerator_info = [f\"Type: {acc['type']}, Brand: {acc['brand']}, Count: {acc['count']}, \"\n",
        "                        f\"Capabilities: {acc['capabilities']}, Memory: {acc['memory']}\" for acc in accelerators]\n",
        "\n",
        "    recommendations = ai_recommendations(power, load)\n",
        "\n",
        "    return html.Div([html.P(info) for info in accelerator_info]), recommendations\n",
        "\n",
        "@app.callback(\n",
        "    Output('power-output', 'children'),\n",
        "    [Input('power-slider', 'value')]\n",
        ")\n",
        "def update_power(value):\n",
        "    return f'Current Power Setting: {value}%'\n",
        "\n",
        "@app.callback(\n",
        "    Output('load-output', 'children'),\n",
        "    [Input('load-slider', 'value')]\n",
        ")\n",
        "def update_load(value):\n",
        "    return f'Current Load Distribution: {value}%'\n",
        "\n",
        "# Real-time monitoring of power utilization and load distribution\n",
        "@app.callback(\n",
        "    Output('live-update-text', 'children'),\n",
        "    [Input('interval-component', 'n_intervals'), Input('power-slider', 'value'), Input('load-slider', 'value')]\n",
        ")\n",
        "def update_metrics(n, power, load):\n",
        "    timestamp = datetime.datetime.now().strftime(\"%Y-%m-%d %H:%M:%S\")\n",
        "\n",
        "    # Simulated power and load values\n",
        "    power_usage = power * 1.5\n",
        "    load_distribution = load\n",
        "\n",
        "    # Insert into the database\n",
        "    c.execute(\"INSERT INTO accelerator_data VALUES (?, ?, ?, ?)\",\n",
        "              (timestamp, 'AI Accelerator', power_usage, load_distribution))\n",
        "    conn.commit()\n",
        "\n",
        "    return [f\"Timestamp: {timestamp}, Power Usage: {power_usage}W, Load Distribution: {load_distribution}%\"]\n",
        "\n",
        "# Running the Dash app\n",
        "if __name__ == '__main__':\n",
        "    app.run_server(debug=False) # Disable debug mode"
      ],
      "metadata": {
        "colab": {
          "base_uri": "https://localhost:8080/",
          "height": 671
        },
        "id": "9PeQraFb6I3b",
        "outputId": "0fa0a6bb-d225-4cde-ba70-4d910d2a51a6"
      },
      "execution_count": 21,
      "outputs": [
        {
          "output_type": "display_data",
          "data": {
            "text/plain": [
              "<IPython.core.display.Javascript object>"
            ],
            "application/javascript": [
              "(async (port, path, width, height, cache, element) => {\n",
              "    if (!google.colab.kernel.accessAllowed && !cache) {\n",
              "      return;\n",
              "    }\n",
              "    element.appendChild(document.createTextNode(''));\n",
              "    const url = await google.colab.kernel.proxyPort(port, {cache});\n",
              "    const iframe = document.createElement('iframe');\n",
              "    iframe.src = new URL(path, url).toString();\n",
              "    iframe.height = height;\n",
              "    iframe.width = width;\n",
              "    iframe.style.border = 0;\n",
              "    iframe.allow = [\n",
              "        'accelerometer',\n",
              "        'autoplay',\n",
              "        'camera',\n",
              "        'clipboard-read',\n",
              "        'clipboard-write',\n",
              "        'gyroscope',\n",
              "        'magnetometer',\n",
              "        'microphone',\n",
              "        'serial',\n",
              "        'usb',\n",
              "        'xr-spatial-tracking',\n",
              "    ].join('; ');\n",
              "    element.appendChild(iframe);\n",
              "  })(8050, \"/\", \"100%\", 650, false, window.element)"
            ]
          },
          "metadata": {}
        }
      ]
    }
  ]
}